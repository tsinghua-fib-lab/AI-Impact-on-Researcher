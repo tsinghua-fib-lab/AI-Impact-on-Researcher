{
 "cells": [
  {
   "cell_type": "code",
   "execution_count": null,
   "id": "61bb8de0",
   "metadata": {},
   "outputs": [],
   "source": [
    "import os\n",
    "import pickle\n",
    "from tqdm import tqdm\n",
    "import numpy as np\n",
    "import matplotlib.pyplot as plt\n",
    "plt.rcParams['font.family'] = ['Arial']"
   ]
  },
  {
   "cell_type": "code",
   "execution_count": null,
   "id": "17918070",
   "metadata": {},
   "outputs": [],
   "source": [
    "with open(os.path.join('.','process_data','paper_classify_union.pkl'),'rb') as f:\n",
    "    paper_classify=pickle.load(f)\n",
    "\n",
    "with open(os.path.join('.','process_data','paper_year.pkl'),'rb') as f:\n",
    "    paper_year=pickle.load(f)   \n",
    "with open(os.path.join('.','process_data','paper_root_fos_level0_multi.pkl'),'rb') as f:\n",
    "    paper_root_fos=pickle.load(f)\n",
    "\n",
    "with open(os.path.join('.','process_data','paper_selected_dict_title_abstract.pkl'),'rb') as f:\n",
    "    paper_selected_dict_title_abstract=pickle.load(f)\n",
    "with open(os.path.join('.','process_data','paper_selected_dict_venue.pkl'),'rb') as f:\n",
    "    paper_selected_dict_venue=pickle.load(f)\n",
    "    \n",
    "with open(os.path.join('.','process_data','root_fos_level0.pkl'),'rb') as f:\n",
    "    root_fos=pickle.load(f)"
   ]
  },
  {
   "cell_type": "code",
   "execution_count": null,
   "id": "9a9ae72e",
   "metadata": {},
   "outputs": [],
   "source": [
    "year_start=1990\n",
    "year_end=2015\n",
    "years=range(year_start,year_end+1)\n",
    "# The two large graphs are both evolving and we take MAG July 2020 snapshot and AMiner October 2020 snapshot for this version."
   ]
  },
  {
   "cell_type": "code",
   "execution_count": null,
   "id": "7c10e141",
   "metadata": {},
   "outputs": [],
   "source": [
    "result=dict()\n",
    "for fos in root_fos:\n",
    "    result[fos]=dict()\n",
    "    for year in range(1800,2022):\n",
    "        result[fos][year]=[0,0]"
   ]
  },
  {
   "cell_type": "code",
   "execution_count": null,
   "id": "91e88633",
   "metadata": {
    "scrolled": true
   },
   "outputs": [],
   "source": [
    "count=0\n",
    "for paper,classify in tqdm(paper_classify.items()):\n",
    "    if (paper in paper_selected_dict_title_abstract) and (paper in paper_selected_dict_venue):\n",
    "        try:\n",
    "            foses=paper_root_fos[paper]\n",
    "            year=paper_year[paper]\n",
    "        except:\n",
    "            continue\n",
    "\n",
    "        for fos in foses:\n",
    "            result[fos][year][classify]+=1"
   ]
  },
  {
   "cell_type": "code",
   "execution_count": null,
   "id": "a5d5e06f",
   "metadata": {},
   "outputs": [],
   "source": [
    "fos_list=['geology','chemistry','materials science','biology','physics','medicine']\n",
    "plt.figure(figsize=(10.5,6))\n",
    "for fos in dict(sorted(root_fos.items(),key=lambda x:x[1])):\n",
    "    if root_fos[fos] not in fos_list:\n",
    "        continue\n",
    "    data=[100*result[fos][year][1]/(result[fos][year][0]+result[fos][year][1]) for year in years]\n",
    "    plt.plot(years,data,label=root_fos[fos].capitalize(),linewidth=3)\n",
    "\n",
    "# plt.legend(fontsize=20)\n",
    "plt.ylabel('Share of AI-enabled papers (%)',fontsize=20)\n",
    "plt.xlabel('Year',fontsize=20)\n",
    "plt.xticks(fontsize=15)\n",
    "plt.yticks(fontsize=15)\n",
    "plt.xlim(year_start,year_end)\n",
    "plt.grid(True, linestyle=\"--\", alpha=1)\n",
    "plt.ylim(0,3)\n",
    "plt.tight_layout()\n",
    "plt.show()"
   ]
  }
 ],
 "metadata": {
  "kernelspec": {
   "display_name": "Python 3 (ipykernel)",
   "language": "python",
   "name": "python3"
  },
  "language_info": {
   "codemirror_mode": {
    "name": "ipython",
    "version": 3
   },
   "file_extension": ".py",
   "mimetype": "text/x-python",
   "name": "python",
   "nbconvert_exporter": "python",
   "pygments_lexer": "ipython3",
   "version": "3.9.13"
  }
 },
 "nbformat": 4,
 "nbformat_minor": 5
}
