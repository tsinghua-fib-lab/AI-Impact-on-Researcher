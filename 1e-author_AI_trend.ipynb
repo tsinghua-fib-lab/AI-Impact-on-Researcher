{
 "cells": [
  {
   "cell_type": "code",
   "execution_count": null,
   "id": "61bb8de0",
   "metadata": {},
   "outputs": [],
   "source": [
    "import os\n",
    "import pickle\n",
    "from tqdm import tqdm\n",
    "import numpy as np\n",
    "import matplotlib.pyplot as plt\n",
    "plt.rcParams['font.family'] = ['Arial']"
   ]
  },
  {
   "cell_type": "code",
   "execution_count": null,
   "id": "68333ca9",
   "metadata": {},
   "outputs": [],
   "source": [
    "with open(os.path.join('.','process_data','author_career.pkl'),'rb') as f:\n",
    "    author_career=pickle.load(f)\n",
    "with open(os.path.join('.','process_data','author_selected_dict_fos.pkl'),'rb') as f:\n",
    "    author_selected_dict_fos=pickle.load(f)\n",
    "    \n",
    "with open(os.path.join('.','process_data','root_fos_level0.pkl'),'rb') as f:\n",
    "    root_fos=pickle.load(f)"
   ]
  },
  {
   "cell_type": "code",
   "execution_count": null,
   "id": "9a9ae72e",
   "metadata": {},
   "outputs": [],
   "source": [
    "year_start=1990\n",
    "year_end=2015\n",
    "years=range(year_start,year_end+1)\n",
    "# The two large graphs are both evolving and we take MAG July 2020 snapshot and AMiner October 2020 snapshot for this version."
   ]
  },
  {
   "cell_type": "code",
   "execution_count": null,
   "id": "e1501314",
   "metadata": {},
   "outputs": [],
   "source": [
    "result=dict()\n",
    "for fos,fos_name in root_fos.items():\n",
    "    result[fos_name]=dict()\n",
    "    for year in range(1800,2022):\n",
    "        result[fos_name][year]=[0,0]"
   ]
  },
  {
   "cell_type": "code",
   "execution_count": null,
   "id": "f649ee81",
   "metadata": {},
   "outputs": [],
   "source": [
    "count=0\n",
    "for author,career in tqdm(author_career.items()):\n",
    "    start=int(career[1])\n",
    "    first=int(career[2])\n",
    "    last=int(career[3])\n",
    "    AI=int(career[4])\n",
    "    drop=int(career[5])\n",
    "    foses=author_selected_dict_fos[author]\n",
    "\n",
    "    if last>first and last>start and drop>start:\n",
    "        if AI<last:\n",
    "            for year in range(start,min(last,drop+1)):\n",
    "                for fos in foses:\n",
    "                    result[fos][year][1]+=1\n",
    "        else:\n",
    "            for year in range(start,min(last,drop+1)):\n",
    "                for fos in foses:\n",
    "                    result[fos][year][0]+=1"
   ]
  },
  {
   "cell_type": "code",
   "execution_count": null,
   "id": "a5d5e06f",
   "metadata": {},
   "outputs": [],
   "source": [
    "fos_list=['geology','chemistry','materials science','biology','physics','medicine']\n",
    "plt.figure(figsize=(10.5,6))\n",
    "for fos in dict(sorted(root_fos.items(),key=lambda x:x[1])):\n",
    "    if root_fos[fos] not in fos_list:\n",
    "        continue\n",
    "    data=[100*result[root_fos[fos]][year][1]/(result[root_fos[fos]][year][0]+result[root_fos[fos]][year][1]) for year in years]\n",
    "    plt.plot(years,data,label=root_fos[fos].capitalize(),linewidth=3)\n",
    "\n",
    "# plt.legend(fontsize=20)\n",
    "plt.ylabel('Share of junior researchers adopting AI (%)',fontsize=20)\n",
    "plt.xlabel('Year',fontsize=20)\n",
    "plt.xticks(fontsize=15)\n",
    "plt.yticks(fontsize=15)\n",
    "plt.xlim(year_start,year_end)\n",
    "plt.grid(True, linestyle=\"--\", alpha=1)\n",
    "plt.ylim(0,8)\n",
    "plt.tight_layout()\n",
    "plt.show()"
   ]
  }
 ],
 "metadata": {
  "kernelspec": {
   "display_name": "Python 3 (ipykernel)",
   "language": "python",
   "name": "python3"
  },
  "language_info": {
   "codemirror_mode": {
    "name": "ipython",
    "version": 3
   },
   "file_extension": ".py",
   "mimetype": "text/x-python",
   "name": "python",
   "nbconvert_exporter": "python",
   "pygments_lexer": "ipython3",
   "version": "3.9.13"
  }
 },
 "nbformat": 4,
 "nbformat_minor": 5
}
